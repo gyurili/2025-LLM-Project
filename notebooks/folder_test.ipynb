{
 "cells": [
  {
   "cell_type": "markdown",
   "id": "4c6a820a",
   "metadata": {},
   "source": [
    "# 폴더구조 변경용 테스트"
   ]
  },
  {
   "cell_type": "code",
   "execution_count": 2,
   "id": "404a29b8-820e-4c20-9cab-cff0df976314",
   "metadata": {},
   "outputs": [
    {
     "name": "stdout",
     "output_type": "stream",
     "text": [
      "✅ 현재 작업 디렉토리: C:\\Users\\user\\Desktop\\PythonWorkspace\\2025-LLM-Project\n"
     ]
    }
   ],
   "source": [
    "import sys\n",
    "import os\n",
    "\n",
    "# 현재 폴더가 이미 프로젝트 루트라면 . 로 지정\n",
    "project_root = os.path.abspath(\"C:/Users/user/Desktop/PythonWorkspace/2025-LLM-Project\")\n",
    "os.chdir(project_root)\n",
    "sys.path.append(project_root)\n",
    "\n",
    "print(\"✅ 현재 작업 디렉토리:\", os.getcwd())"
   ]
  },
  {
   "cell_type": "code",
   "execution_count": 3,
   "id": "c9007942",
   "metadata": {},
   "outputs": [],
   "source": [
    "import importlib\n",
    "import src.utils.config  # 이미 import 된 모듈\n",
    "importlib.reload(src.utils.config)  # 강제 재로드\n",
    "\n",
    "from src.utils.config import load_config  # 다시 임포트"
   ]
  },
  {
   "cell_type": "code",
   "execution_count": 4,
   "id": "c29817ed-aa41-4da0-a1bf-0058af7429d4",
   "metadata": {},
   "outputs": [
    {
     "name": "stdout",
     "output_type": "stream",
     "text": [
      "\n",
      "📄 [Verbose] 최종 설정 내용:\n",
      "data:\n",
      "  folder_path: data/files\n",
      "  data_list_path: data/data_list.csv\n",
      "  limit: 100\n",
      "  file_type: all\n",
      "  apply_ocr: false\n",
      "  splitter: recursive\n",
      "  chunk_size: 300\n",
      "  chunk_overlap: 50\n",
      "embedding:\n",
      "  embed_model: nlpai-lab/KoE5\n",
      "  db_type: faiss\n",
      "  vector_db_path: data\n",
      "retriever:\n",
      "  query: 배드민턴장 및 탁구장 예약방법\n",
      "  top_k: 3\n",
      "generator:\n",
      "  model_type: huggingface\n",
      "  model_name: ex\n",
      "  max_length: 512\n",
      "settings:\n",
      "  verbose: true\n",
      "\n"
     ]
    }
   ],
   "source": [
    "# config.yaml 파일 경로\n",
    "config = load_config(\"config.yaml\")"
   ]
  },
  {
   "cell_type": "code",
   "execution_count": null,
   "id": "78dfcd71-b835-4d44-9e73-cfddad7546f2",
   "metadata": {},
   "outputs": [],
   "source": []
  }
 ],
 "metadata": {
  "kernelspec": {
   "display_name": "base",
   "language": "python",
   "name": "python3"
  },
  "language_info": {
   "codemirror_mode": {
    "name": "ipython",
    "version": 3
   },
   "file_extension": ".py",
   "mimetype": "text/x-python",
   "name": "python",
   "nbconvert_exporter": "python",
   "pygments_lexer": "ipython3",
   "version": "3.12.7"
  }
 },
 "nbformat": 4,
 "nbformat_minor": 5
}
