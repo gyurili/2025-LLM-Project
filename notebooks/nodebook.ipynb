{
 "cells": [
  {
   "cell_type": "markdown",
   "id": "4c6a820a",
   "metadata": {},
   "source": [
    "# 임시 파일"
   ]
  }
 ],
 "metadata": {
  "language_info": {
   "name": "python"
  }
 },
 "nbformat": 4,
 "nbformat_minor": 5
}
