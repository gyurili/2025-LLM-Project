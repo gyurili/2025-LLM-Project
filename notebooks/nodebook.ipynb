{
 "cells": [
  {
   "cell_type": "markdown",
   "id": "4c6a820a",
   "metadata": {},
   "source": [
    "# Retrieval Test"
   ]
  },
  {
   "cell_type": "code",
   "execution_count": 1,
   "id": "df6c3ede-7377-42a2-8498-42e08edf404a",
   "metadata": {},
   "outputs": [],
   "source": [
    "import sys\n",
    "import os\n",
    "sys.path.append('/home/glen/2025-LLM-Project')\n",
    "\n",
    "from src.data_loader import data_load, data_process, data_chunking\n",
    "from src.vector_db import generate_vector_db, load_vector_db"
   ]
  },
  {
   "cell_type": "code",
   "execution_count": 2,
   "id": "ab4a84ae-3817-4703-9c02-88ca014bdb87",
   "metadata": {},
   "outputs": [
    {
     "name": "stderr",
     "output_type": "stream",
     "text": [
      "고려대학교_차세대 포털·학사 정보시스템 구축사업.pdf: 100%|██████████| 297/297 [00:02<00:00, 141.64it/s]\n",
      "서울시립대학교_[사전공개] 학업성취도 다차원 종단분석 통합시스템 1차.pdf: 100%|██████████| 149/149 [00:03<00:00, 39.93it/s]\n",
      "서울특별시_2024년 지도정보 플랫폼 및 전문활용 연계 시스템 고도화 용.pdf:  56%|█████▌    | 42/75 [00:01<00:02, 15.43it/s]"
     ]
    },
    {
     "name": "stdout",
     "output_type": "stream",
     "text": [
      "MuPDF error: syntax error: invalid key in dict\n",
      "\n",
      "MuPDF error: syntax error: invalid key in dict\n",
      "\n"
     ]
    },
    {
     "name": "stderr",
     "output_type": "stream",
     "text": [
      "서울특별시_2024년 지도정보 플랫폼 및 전문활용 연계 시스템 고도화 용.pdf: 100%|██████████| 75/75 [00:04<00:00, 16.43it/s]\n",
      "기초과학연구원_2025년도 중이온가속기용 극저온시스템 운전 용역.pdf: 100%|██████████| 49/49 [00:00<00:00, 304.99it/s]\n"
     ]
    },
    {
     "ename": "TypeError",
     "evalue": "generate_vector_db() missing 1 required positional argument: 'index_name'",
     "output_type": "error",
     "traceback": [
      "\u001b[0;31m---------------------------------------------------------------------------\u001b[0m",
      "\u001b[0;31mTypeError\u001b[0m                                 Traceback (most recent call last)",
      "Cell \u001b[0;32mIn[2], line 4\u001b[0m\n\u001b[1;32m      2\u001b[0m df \u001b[38;5;241m=\u001b[39m data_process(df, apply_ocr\u001b[38;5;241m=\u001b[39m\u001b[38;5;28;01mFalse\u001b[39;00m, file_type\u001b[38;5;241m=\u001b[39m\u001b[38;5;124m\"\u001b[39m\u001b[38;5;124mall\u001b[39m\u001b[38;5;124m\"\u001b[39m)\n\u001b[1;32m      3\u001b[0m all_chunks \u001b[38;5;241m=\u001b[39m data_chunking(df\u001b[38;5;241m=\u001b[39mdf, splitter_type\u001b[38;5;241m=\u001b[39m\u001b[38;5;124m\"\u001b[39m\u001b[38;5;124mrecursive\u001b[39m\u001b[38;5;124m\"\u001b[39m, size\u001b[38;5;241m=\u001b[39m\u001b[38;5;241m300\u001b[39m, overlap\u001b[38;5;241m=\u001b[39m\u001b[38;5;241m50\u001b[39m)\n\u001b[0;32m----> 4\u001b[0m embeddings \u001b[38;5;241m=\u001b[39m \u001b[43mgenerate_vector_db\u001b[49m\u001b[43m(\u001b[49m\u001b[43mall_chunks\u001b[49m\u001b[43m,\u001b[49m\u001b[43m \u001b[49m\u001b[38;5;124;43m\"\u001b[39;49m\u001b[38;5;124;43mnlpai-lab/KoE5\u001b[39;49m\u001b[38;5;124;43m\"\u001b[39;49m\u001b[43m)\u001b[49m\n\u001b[1;32m      5\u001b[0m vector_store \u001b[38;5;241m=\u001b[39m load_vector_db(\u001b[38;5;124m\"\u001b[39m\u001b[38;5;124m../data\u001b[39m\u001b[38;5;124m\"\u001b[39m, \u001b[38;5;124m\"\u001b[39m\u001b[38;5;124mnlpai-lab/KoE5\u001b[39m\u001b[38;5;124m\"\u001b[39m)\n",
      "\u001b[0;31mTypeError\u001b[0m: generate_vector_db() missing 1 required positional argument: 'index_name'"
     ]
    }
   ],
   "source": [
    "from main import generate_index_name\n",
    "\n",
    "df = data_load(\"data/data_list.csv\")\n",
    "df = data_process(df, apply_ocr=False, file_type=\"all\")\n",
    "all_chunks = data_chunking(df=df, splitter_type=\"recursive\", size=300, overlap=50)\n",
    "index_name = \"all_100_recursive_KoE5_faiss_index\"\n",
    "embeddings = generate_vector_db(all_chunks, \"nlpai-lab/KoE5\")\n",
    "vector_store = load_vector_db(\"../data\", \"nlpai-lab/KoE5\")"
   ]
  },
  {
   "cell_type": "code",
   "execution_count": null,
   "id": "f0287b88-31e6-4b4b-bdd2-ae250767378d",
   "metadata": {},
   "outputs": [],
   "source": [
    "retriever = vector_store.as_retriever(\n",
    "    search_type=\"similarity\",\n",
    "    search_kwargs={\"k\": 3}\n",
    ")"
   ]
  },
  {
   "cell_type": "code",
   "execution_count": null,
   "id": "773ce00d-12dc-4b7f-923e-08b5070923e0",
   "metadata": {},
   "outputs": [],
   "source": [
    "from langchain.retrievers import BM25Retriever, EnsembleRetriever\n",
    "\n",
    "bm25_retriever = BM25Retriever.from_documents(all_chunks)\n",
    "bm25_retriever.k = 3"
   ]
  },
  {
   "cell_type": "code",
   "execution_count": null,
   "id": "11bf8edb-66c2-48e7-963b-d8593da0de1b",
   "metadata": {},
   "outputs": [],
   "source": [
    "hybrid_retriever = EnsembleRetriever(\n",
    "    retrievers=[bm25_retriever, retriever],\n",
    "    weights=[0.5, 0.5],  # Equal weight for hybrid fusion\n",
    ")"
   ]
  },
  {
   "cell_type": "code",
   "execution_count": null,
   "id": "b3e2357c-9b71-45c6-a353-2efea100350a",
   "metadata": {},
   "outputs": [],
   "source": [
    "from langchain.retrievers.document_compressors import EmbeddingsFilter\n",
    "from langchain.retrievers import ContextualCompressionRetriever\n",
    "\n",
    "reranker = ContextualCompressionRetriever(\n",
    "    base_retriever=hybrid_retriever,\n",
    "    base_compressor=EmbeddingsFilter(\n",
    "        embeddings=embeddings,\n",
    "        similarity_threshold=0.45\n",
    "    )\n",
    ")\n",
    "\n",
    "query = \"배드민턴장 및 탁구장 예약방법\"\n",
    "docs = reranker.invoke(query)\n",
    "\n",
    "# Print top 3 compressed docs\n",
    "for i, doc in enumerate(docs[:3]):\n",
    "    print(f\"--- 📄 문서 {i+1} ---\")\n",
    "    print(doc.page_content[:500])\n",
    "    print(doc.metadata)"
   ]
  }
 ],
 "metadata": {
  "kernelspec": {
   "display_name": "Python (venv)",
   "language": "python",
   "name": "venv"
  },
  "language_info": {
   "codemirror_mode": {
    "name": "ipython",
    "version": 3
   },
   "file_extension": ".py",
   "mimetype": "text/x-python",
   "name": "python",
   "nbconvert_exporter": "python",
   "pygments_lexer": "ipython3",
   "version": "3.10.12"
  }
 },
 "nbformat": 4,
 "nbformat_minor": 5
}
