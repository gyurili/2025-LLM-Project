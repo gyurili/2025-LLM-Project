{
 "cells": [
  {
   "cell_type": "code",
   "execution_count": 1,
   "id": "8c6cb2df-ad06-46c0-8688-fc2bb2d9f49f",
   "metadata": {},
   "outputs": [],
   "source": [
    "import sys\n",
    "import os\n",
    "sys.path.append('/home/glen/2025-LLM-Project')"
   ]
  },
  {
   "cell_type": "code",
   "execution_count": 2,
   "id": "6b28df51-8370-487d-8379-05a645bcc027",
   "metadata": {},
   "outputs": [],
   "source": [
    "from src.data_loader import data_load, data_process, data_chunking\n",
    "from src.vector_db import generate_vector_db, load_vector_db"
   ]
  },
  {
   "cell_type": "code",
   "execution_count": 8,
   "id": "70f121db-ad8a-4796-ab03-d9992013827a",
   "metadata": {},
   "outputs": [
    {
     "name": "stderr",
     "output_type": "stream",
     "text": [
      "고려대학교_차세대 포털·학사 정보시스템 구축사업.pdf: 100%|██████████| 297/297 [00:02<00:00, 141.40it/s]\n",
      "서울시립대학교_[사전공개] 학업성취도 다차원 종단분석 통합시스템 1차.pdf: 100%|██████████| 149/149 [00:03<00:00, 39.99it/s]\n",
      "서울특별시_2024년 지도정보 플랫폼 및 전문활용 연계 시스템 고도화 용.pdf:  56%|█████▌    | 42/75 [00:01<00:02, 15.52it/s]"
     ]
    },
    {
     "name": "stdout",
     "output_type": "stream",
     "text": [
      "MuPDF error: syntax error: invalid key in dict\n",
      "\n",
      "MuPDF error: syntax error: invalid key in dict\n",
      "\n"
     ]
    },
    {
     "name": "stderr",
     "output_type": "stream",
     "text": [
      "서울특별시_2024년 지도정보 플랫폼 및 전문활용 연계 시스템 고도화 용.pdf: 100%|██████████| 75/75 [00:04<00:00, 16.48it/s]\n",
      "기초과학연구원_2025년도 중이온가속기용 극저온시스템 운전 용역.pdf: 100%|██████████| 49/49 [00:00<00:00, 306.30it/s]\n",
      "/opt/jhub-venv/lib/python3.10/site-packages/tqdm/auto.py:21: TqdmWarning: IProgress not found. Please update jupyter and ipywidgets. See https://ipywidgets.readthedocs.io/en/stable/user_install.html\n",
      "  from .autonotebook import tqdm as notebook_tqdm\n"
     ]
    }
   ],
   "source": [
    "df = data_load(\"data/data_list.csv\")\n",
    "df = data_process(df, apply_ocr=False, file_type=\"all\")\n",
    "all_chunks = data_chunking(df=df, splitter_type=\"recursive\", size=300, overlap=50)\n",
    "embeddings = generate_vector_db(all_chunks, \"nlpai-lab/KoE5\")\n",
    "vector_store = load_vector_db(\"../data\", \"nlpai-lab/KoE5\")"
   ]
  },
  {
   "cell_type": "code",
   "execution_count": 11,
   "id": "ef80a35b-4903-4901-89da-c1eb11cc09ad",
   "metadata": {},
   "outputs": [],
   "source": [
    "retriever = vector_store.as_retriever(\n",
    "    search_type=\"similarity\",\n",
    "    search_kwargs={\"k\": 3}\n",
    ")"
   ]
  },
  {
   "cell_type": "code",
   "execution_count": 9,
   "id": "abe08e20-f514-4bff-a67d-57b22593648b",
   "metadata": {},
   "outputs": [
    {
     "ename": "NameError",
     "evalue": "name 'retriever' is not defined",
     "output_type": "error",
     "traceback": [
      "\u001b[0;31m---------------------------------------------------------------------------\u001b[0m",
      "\u001b[0;31mNameError\u001b[0m                                 Traceback (most recent call last)",
      "Cell \u001b[0;32mIn[9], line 7\u001b[0m\n\u001b[1;32m      3\u001b[0m bm25_retriever \u001b[38;5;241m=\u001b[39m BM25Retriever\u001b[38;5;241m.\u001b[39mfrom_documents(all_chunks)\n\u001b[1;32m      4\u001b[0m bm25_retriever\u001b[38;5;241m.\u001b[39mk \u001b[38;5;241m=\u001b[39m \u001b[38;5;241m3\u001b[39m\n\u001b[1;32m      6\u001b[0m hybrid_retriever \u001b[38;5;241m=\u001b[39m EnsembleRetriever(\n\u001b[0;32m----> 7\u001b[0m     retrievers\u001b[38;5;241m=\u001b[39m[bm25_retriever, \u001b[43mretriever\u001b[49m],\n\u001b[1;32m      8\u001b[0m     weights\u001b[38;5;241m=\u001b[39m[\u001b[38;5;241m0.5\u001b[39m, \u001b[38;5;241m0.5\u001b[39m],  \u001b[38;5;66;03m# Equal weight for hybrid fusion\u001b[39;00m\n\u001b[1;32m      9\u001b[0m )\n",
      "\u001b[0;31mNameError\u001b[0m: name 'retriever' is not defined"
     ]
    }
   ],
   "source": [
    "from langchain.retrievers import BM25Retriever, EnsembleRetriever\n",
    "\n",
    "bm25_retriever = BM25Retriever.from_documents(all_chunks)\n",
    "bm25_retriever.k = 3"
   ]
  },
  {
   "cell_type": "code",
   "execution_count": 12,
   "id": "d8ec0b7d-e0bf-43f3-8fd9-a9464c1ef418",
   "metadata": {},
   "outputs": [],
   "source": [
    "hybrid_retriever = EnsembleRetriever(\n",
    "    retrievers=[bm25_retriever, retriever],\n",
    "    weights=[0.5, 0.5],  # Equal weight for hybrid fusion\n",
    ")"
   ]
  },
  {
   "cell_type": "code",
   "execution_count": 16,
   "id": "568316b9-7c80-4617-8a3b-402e264d50f2",
   "metadata": {},
   "outputs": [
    {
     "name": "stdout",
     "output_type": "stream",
     "text": [
      "--- 📄 문서 1 ---\n",
      "완벽하게 연동 구현 중앙서버 data 정보관리 방식지원이 가능 상세기능은 발주처와 협의후 진행요구사항 번호SFR-007요구사항 분류시스템 기능 요구사항요구사항 명칭예약 시스템 기능 요구사항요구사항상세설명정의예약 시스템 상세 기능 요구사항세부내용 배드민턴장 및 탁구장 예약 시스템을 구분하여 구축 예약기간을 관리자가 설정하면, 해당 기간이 도래했을 때 자동으로예약이 가능하도록 구축 홈페이지에서는 당일예약이 되면 안되며, 현장 키오스크에서는 당일 예약이 가능해야함 예약시 나오는 시간대는 관리자가 직접 설정이 가능해야 함 관리자가\n",
      "{'사업명': '호계체육관 배드민턴장 및 탁구장 예약시스템 구축 용역', '발주 기관': '경기도 안양시', '파일명': '경기도 안양시_호계체육관 배드민턴장 및 탁구장 예약시스템 구축 용역.hwp', 'chunk_idx': 45}\n",
      "--- 📄 문서 2 ---\n",
      "통해 당일 예약 및 결제 기능을 제공하여 시설이용이 가능 하도록 구현 5) 제공되는 키오스크는 배드민턴과 탁구가 별도로 운영이 가능 하도록 기능 개발4. 기대효과 가. 웹 기반의 예약시스템 구축으로 자동화 및 무인화, 다양한 접근성 제공 등 이용의 편의성 제공과 시설 이용 만족도 향상 나. 데스크 업무 분산을 통한 서비스 품질 강화 및 업무의 효율성 확보 다. 자동화 전산시스템을 통한 비대면 언택트 운영 실현 1. 추진목표 사업추진 방안 호계체육관 배드민턴장 및 탁구장 예약 시스템 구축으로 사용자 편리성 증대, 업무 효율성 증가\n",
      "{'사업명': '호계체육관 배드민턴장 및 탁구장 예약시스템 구축 용역', '발주 기관': '경기도 안양시', '파일명': '경기도 안양시_호계체육관 배드민턴장 및 탁구장 예약시스템 구축 용역.hwp', 'chunk_idx': 5}\n",
      "--- 📄 문서 3 ---\n",
      "배드민턴장 및 탁구장 예약 시스템 구축(키오스크 서비스) 1) 현장에서 키오스크를 이용하여 인포데스크 방문 없이 예약 및 결제가 가능하도록 관리하는 관리자 페이지 통합 구현 2) 안양도시공사 홈페이지 뿐 아니라 키오스크에서 예약 및 결제가 가능하도록 통합 관리 체계가 구축되어야 하며, 키오스크는 별도의 전용 예약 페이지를 제공 3) 현장에서 제공되는 별도의 모니터를 통해 현재 이용 중인 구역에 대하여 이용자 정보를 제공 4) 현장에서 키오스크를 통해 당일 예약 및 결제 기능을 제공하여 시설이용이 가능 하도록 구현 5) 제공되는\n",
      "{'사업명': '호계체육관 배드민턴장 및 탁구장 예약시스템 구축 용역', '발주 기관': '경기도 안양시', '파일명': '경기도 안양시_호계체육관 배드민턴장 및 탁구장 예약시스템 구축 용역.hwp', 'chunk_idx': 4}\n"
     ]
    }
   ],
   "source": [
    "from langchain.retrievers.document_compressors import EmbeddingsFilter\n",
    "from langchain.retrievers import ContextualCompressionRetriever\n",
    "\n",
    "reranker = ContextualCompressionRetriever(\n",
    "    base_retriever=hybrid_retriever,\n",
    "    base_compressor=EmbeddingsFilter(\n",
    "        embeddings=embeddings,\n",
    "        similarity_threshold=0.45\n",
    "    )\n",
    ")\n",
    "\n",
    "query = \"배드민턴장 및 탁구장 예약방법\"\n",
    "docs = reranker.invoke(query)\n",
    "\n",
    "# Print top 3 compressed docs\n",
    "for i, doc in enumerate(docs[:3]):\n",
    "    print(f\"--- 📄 문서 {i+1} ---\")\n",
    "    print(doc.page_content[:500])\n",
    "    print(doc.metadata)"
   ]
  },
  {
   "cell_type": "code",
   "execution_count": null,
   "id": "6ec9ca8f-4775-4e1e-9ba3-34ca53e15a94",
   "metadata": {},
   "outputs": [],
   "source": []
  }
 ],
 "metadata": {
  "kernelspec": {
   "display_name": "Python (myenv)",
   "language": "python",
   "name": "myenv"
  },
  "language_info": {
   "codemirror_mode": {
    "name": "ipython",
    "version": 3
   },
   "file_extension": ".py",
   "mimetype": "text/x-python",
   "name": "python",
   "nbconvert_exporter": "python",
   "pygments_lexer": "ipython3",
   "version": "3.10.16"
  }
 },
 "nbformat": 4,
 "nbformat_minor": 5
}
