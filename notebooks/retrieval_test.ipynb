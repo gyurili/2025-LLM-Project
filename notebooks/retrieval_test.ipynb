{
 "cells": [
  {
   "cell_type": "code",
   "execution_count": 6,
   "id": "8c6cb2df-ad06-46c0-8688-fc2bb2d9f49f",
   "metadata": {},
   "outputs": [],
   "source": [
    "import sys\n",
    "import os\n",
    "sys.path.append('/home/glen/2025-LLM-Project')"
   ]
  },
  {
   "cell_type": "code",
   "execution_count": 12,
   "id": "6b28df51-8370-487d-8379-05a645bcc027",
   "metadata": {},
   "outputs": [],
   "source": [
    "from src.data_loader import data_load, data_process, data_chunking\n",
    "from src.vector_db import generate_vector_db, load_vector_db"
   ]
  },
  {
   "cell_type": "code",
   "execution_count": 14,
   "id": "70f121db-ad8a-4796-ab03-d9992013827a",
   "metadata": {
    "scrolled": true
   },
   "outputs": [
    {
     "name": "stderr",
     "output_type": "stream",
     "text": [
      "고려대학교_차세대 포털·학사 정보시스템 구축사업.pdf: 100%|██████████| 297/297 [00:02<00:00, 130.40it/s]\n",
      "서울시립대학교_[사전공개] 학업성취도 다차원 종단분석 통합시스템 1차.pdf: 100%|██████████| 149/149 [00:03<00:00, 38.74it/s]\n",
      "서울특별시_2024년 지도정보 플랫폼 및 전문활용 연계 시스템 고도화 용.pdf:  56%|█████▌    | 42/75 [00:02<00:02, 15.43it/s]"
     ]
    },
    {
     "name": "stdout",
     "output_type": "stream",
     "text": [
      "MuPDF error: syntax error: invalid key in dict\n",
      "\n",
      "MuPDF error: syntax error: invalid key in dict\n",
      "\n"
     ]
    },
    {
     "name": "stderr",
     "output_type": "stream",
     "text": [
      "서울특별시_2024년 지도정보 플랫폼 및 전문활용 연계 시스템 고도화 용.pdf: 100%|██████████| 75/75 [00:04<00:00, 16.00it/s]\n",
      "기초과학연구원_2025년도 중이온가속기용 극저온시스템 운전 용역.pdf: 100%|██████████| 49/49 [00:00<00:00, 252.19it/s]\n"
     ]
    }
   ],
   "source": [
    "df = data_load(\"data/data_list.csv\", limit=100)\n",
    "df = data_process(df, apply_ocr=False, file_type=\"all\")\n",
    "all_chunks = data_chunking(df=df, splitter_type=\"recursive\", size=300, overlap=50)\n",
    "# embeddings = generate_vector_db(all_chunks, \"nlpai-lab/KoE5\", \"all_100_recursive_KoE5_faiss_index\")"
   ]
  },
  {
   "cell_type": "code",
   "execution_count": 15,
   "id": "f4e53557-2f06-4823-8f53-f3e94d8c1b96",
   "metadata": {},
   "outputs": [],
   "source": [
    "vector_store = load_vector_db(\"../data\", \"nlpai-lab/KoE5\", \"all_100_recursive_KoE5_faiss_index\")"
   ]
  },
  {
   "cell_type": "code",
   "execution_count": 16,
   "id": "ef80a35b-4903-4901-89da-c1eb11cc09ad",
   "metadata": {},
   "outputs": [],
   "source": [
    "from src.vector_db import generate_embedding\n",
    "\n",
    "embeddings = generate_embedding(\"nlpai-lab/KoE5\")\n",
    "\n",
    "retriever = vector_store.as_retriever(\n",
    "    search_type=\"similarity\",\n",
    "    search_kwargs={\"k\": 3}\n",
    ")"
   ]
  },
  {
   "cell_type": "code",
   "execution_count": 17,
   "id": "abe08e20-f514-4bff-a67d-57b22593648b",
   "metadata": {},
   "outputs": [],
   "source": [
    "from langchain.retrievers import BM25Retriever, EnsembleRetriever\n",
    "\n",
    "bm25_retriever = BM25Retriever.from_documents(all_chunks)\n",
    "bm25_retriever.k = 3"
   ]
  },
  {
   "cell_type": "code",
   "execution_count": 18,
   "id": "d8ec0b7d-e0bf-43f3-8fd9-a9464c1ef418",
   "metadata": {},
   "outputs": [],
   "source": [
    "hybrid_retriever = EnsembleRetriever(\n",
    "    retrievers=[bm25_retriever, retriever],\n",
    "    weights=[0.5, 0.5],  # Equal weight for hybrid fusion\n",
    ")"
   ]
  },
  {
   "cell_type": "code",
   "execution_count": 19,
   "id": "568316b9-7c80-4617-8a3b-402e264d50f2",
   "metadata": {},
   "outputs": [
    {
     "name": "stdout",
     "output_type": "stream",
     "text": [
      "--- 📄 문서 1 ---\n",
      "완벽하게 연동 구현 중앙서버 data 정보관리 방식지원이 가능 상세기능은 발주처와 협의후 진행요구사항 번호SFR-007요구사항 분류시스템 기능 요구사항요구사항 명칭예약 시스템 기능 요구사항요구사항상세설명정의예약 시스템 상세 기능 요구사항세부내용 배드민턴장 및 탁구장 예약 시스템을 구분하여 구축 예약기간을 관리자가 설정하면, 해당 기간이 도래했을 때 자동으로예약이 가능하도록 구축 홈페이지에서는 당일예약이 되면 안되며, 현장 키오스크에서는 당일 예약이 가능해야함 예약시 나오는 시간대는 관리자가 직접 설정이 가능해야 함 관리자가\n",
      "{'사업명': '호계체육관 배드민턴장 및 탁구장 예약시스템 구축 용역', '발주 기관': '경기도 안양시', '파일명': '경기도 안양시_호계체육관 배드민턴장 및 탁구장 예약시스템 구축 용역.hwp', 'chunk_idx': 45}\n",
      "--- 📄 문서 2 ---\n",
      "통해 당일 예약 및 결제 기능을 제공하여 시설이용이 가능 하도록 구현 5) 제공되는 키오스크는 배드민턴과 탁구가 별도로 운영이 가능 하도록 기능 개발4. 기대효과 가. 웹 기반의 예약시스템 구축으로 자동화 및 무인화, 다양한 접근성 제공 등 이용의 편의성 제공과 시설 이용 만족도 향상 나. 데스크 업무 분산을 통한 서비스 품질 강화 및 업무의 효율성 확보 다. 자동화 전산시스템을 통한 비대면 언택트 운영 실현 1. 추진목표 사업추진 방안 호계체육관 배드민턴장 및 탁구장 예약 시스템 구축으로 사용자 편리성 증대, 업무 효율성 증가\n",
      "{'사업명': '호계체육관 배드민턴장 및 탁구장 예약시스템 구축 용역', '발주 기관': '경기도 안양시', '파일명': '경기도 안양시_호계체육관 배드민턴장 및 탁구장 예약시스템 구축 용역.hwp', 'chunk_idx': 5}\n",
      "--- 📄 문서 3 ---\n",
      "배드민턴장 및 탁구장 예약 시스템 구축(키오스크 서비스) 1) 현장에서 키오스크를 이용하여 인포데스크 방문 없이 예약 및 결제가 가능하도록 관리하는 관리자 페이지 통합 구현 2) 안양도시공사 홈페이지 뿐 아니라 키오스크에서 예약 및 결제가 가능하도록 통합 관리 체계가 구축되어야 하며, 키오스크는 별도의 전용 예약 페이지를 제공 3) 현장에서 제공되는 별도의 모니터를 통해 현재 이용 중인 구역에 대하여 이용자 정보를 제공 4) 현장에서 키오스크를 통해 당일 예약 및 결제 기능을 제공하여 시설이용이 가능 하도록 구현 5) 제공되는\n",
      "{'사업명': '호계체육관 배드민턴장 및 탁구장 예약시스템 구축 용역', '발주 기관': '경기도 안양시', '파일명': '경기도 안양시_호계체육관 배드민턴장 및 탁구장 예약시스템 구축 용역.hwp', 'chunk_idx': 4}\n"
     ]
    }
   ],
   "source": [
    "from langchain.retrievers.document_compressors import EmbeddingsFilter\n",
    "from langchain.retrievers import ContextualCompressionRetriever\n",
    "\n",
    "reranker = ContextualCompressionRetriever(\n",
    "    base_retriever=hybrid_retriever,\n",
    "    base_compressor=EmbeddingsFilter(\n",
    "        embeddings=embeddings,\n",
    "        similarity_threshold=0.45\n",
    "    )\n",
    ")\n",
    "\n",
    "query = \"배드민턴장 및 탁구장 예약방법\"\n",
    "docs = reranker.invoke(query)\n",
    "\n",
    "# Print top 3 compressed docs\n",
    "for i, doc in enumerate(docs[:3]):\n",
    "    print(f\"--- 📄 문서 {i+1} ---\")\n",
    "    print(doc.page_content[:500])\n",
    "    print(doc.metadata)"
   ]
  },
  {
   "cell_type": "code",
   "execution_count": 24,
   "id": "6ec9ca8f-4775-4e1e-9ba3-34ca53e15a94",
   "metadata": {},
   "outputs": [
    {
     "name": "stderr",
     "output_type": "stream",
     "text": [
      "Loading checkpoint shards: 100%|██████████| 4/4 [01:39<00:00, 24.92s/it]\n"
     ]
    }
   ],
   "source": [
    "from transformers import (AutoModelForCausalLM, AutoTokenizer,\n",
    "                          BitsAndBytesConfig, pipeline)\n",
    "import torch\n",
    "model_name = \"fiveflow/KoLlama-3-8B-Instruct\"\n",
    "\n",
    "bnb_config = BitsAndBytesConfig(\n",
    "    load_in_4bit=True,\n",
    "    bnb_4bit_use_double_quant=True,\n",
    "    bnb_4bit_quant_type=\"nf4\",\n",
    "    bnb_4bit_compute_dtype=torch.float16,\n",
    "    llm_int8_enable_fp32_cpu_offload=True,\n",
    ")\n",
    "\n",
    "model = AutoModelForCausalLM.from_pretrained(\n",
    "    model_name,\n",
    "    quantization_config=bnb_config,\n",
    "    trust_remote_code=True,\n",
    ")\n",
    "\n",
    "tokenizer = AutoTokenizer.from_pretrained(model_name, trust_remote_code=True)\n",
    "tokenizer.pad_token = tokenizer.eos_token"
   ]
  },
  {
   "cell_type": "code",
   "execution_count": 26,
   "id": "686e8f82-5825-48c2-a828-eada08fe4849",
   "metadata": {},
   "outputs": [
    {
     "name": "stderr",
     "output_type": "stream",
     "text": [
      "Device set to use cuda:0\n"
     ]
    }
   ],
   "source": [
    "from langchain_huggingface import HuggingFacePipeline\n",
    "\n",
    "llm_pipeline = pipeline(\n",
    "    model=model,\n",
    "    tokenizer=tokenizer,\n",
    "    task=\"text-generation\",\n",
    "    do_sample=True,\n",
    "    temperature=0.2,\n",
    "    repetition_penalty=1.2,\n",
    "    return_full_text=False,\n",
    "    max_new_tokens=1000,\n",
    ")\n",
    "llm = HuggingFacePipeline(pipeline=llm_pipeline, model_id=model_name)\n",
    "# chat_model = ChatHuggingFace(llm=llm, tokenizer=tokenizer, model_id=language_model_name)"
   ]
  },
  {
   "cell_type": "code",
   "execution_count": 27,
   "id": "36eeb88e-36da-449a-b0c5-a760557748c4",
   "metadata": {},
   "outputs": [],
   "source": [
    "from langchain_huggingface import HuggingFacePipeline"
   ]
  },
  {
   "cell_type": "code",
   "execution_count": 28,
   "id": "6e0441d3-ae4a-4ca6-b31b-b4e5e7a0e804",
   "metadata": {},
   "outputs": [],
   "source": [
    "from langchain_core.prompts import PromptTemplate\n",
    "\n",
    "template = \"\"\"\n",
    "아래에 주어진 맥락을 이용해 질문에 대해 답변해 줘.\n",
    "주어진 맥락으로 답변이 어려운 상황이라면, 그냥 모른다고 답하면 되고 억지로 답변을 꾸며 내지 마.\n",
    "최대한 자세하게 답변해 줘.\n",
    "생성된 답변중 중복이 없도록 해줘.\n",
    "반드시 한국어로 답변해야 해.\n",
    "\n",
    "맥락:\n",
    "{context}\n",
    "\n",
    "질문:\n",
    "{question}\n",
    "\"\"\"\n",
    "\n",
    "prompt = PromptTemplate.from_template(template)"
   ]
  },
  {
   "cell_type": "code",
   "execution_count": 29,
   "id": "a841bb0f-9c82-4d05-9255-2ad229be5a2b",
   "metadata": {},
   "outputs": [],
   "source": [
    "from langchain.schema.output_parser import StrOutputParser\n",
    "from langchain.schema.runnable import RunnablePassthrough\n",
    "\n",
    "def format_docs(docs):\n",
    "    print(docs)\n",
    "    return \"\\n\\n\".join(doc.page_content for doc in docs)\n",
    "\n",
    "retrieval_chain = (\n",
    "    {\"context\": reranker | format_docs, \"question\": RunnablePassthrough()}\n",
    "    | prompt\n",
    "    | llm\n",
    "    | StrOutputParser()\n",
    ")"
   ]
  },
  {
   "cell_type": "code",
   "execution_count": 30,
   "id": "1d3b0bc9-e7af-4f7f-b63c-51b4831ec3cf",
   "metadata": {},
   "outputs": [
    {
     "name": "stdout",
     "output_type": "stream",
     "text": [
      "1. 예약기간을 관리자가 설정할 수 있나요?\n",
      "2. 예약시간대를 관리자가 직접 설정할 수 있나요? \n",
      "3. 현장 키오스크에서는 당일 예약이 가능한가요?\n",
      "\n",
      "답변:\n",
      "\n",
      "1. 예약기간을 관리자가 설정할 수 있습니다. 관리자는 예약기간을 설정하여 이를 적용할 수 있습니다.\n",
      "\n",
      "2. 예약시간대를 관리자가 직접 설정할 수 있습니다. 관리자는 예약시간대의 시작과 끝을 정하고 이를 적용할 수 있습니다.\n",
      "\n",
      "3. 예약시에는 현장 키오스크에서도 당일 예약이 가능합니다. 그러나 homepage에서는 당일 예약이 불가능하며, 현장 키오스크에서는 당일 예약이 가능해야 합니다. 이점을 고려하여 설계해야 할 것입니다. \n",
      "\n",
      "따라서, 예약기간과 예약시간대를 관리자가 설정할 수 있으며, 현장 키오스크에서는 당일 예약이 가능하지만 homepage에서는 당일 예약이 불가능합니다. 이러한 조치를 취하기 위해서는 적절한 설계와 테스트가 필요합니다. \n",
      "\n",
      "이러한 설명을 바탕으로, 배드민턴장 및 탁구장 예약시스템 구축용역의 요구사항을 충족시키기 위하여 필요한 설계와 테스트를 완료해야 합니다. 또한, 이 과정에서 발생하는 문제나 오류들을 해결하기 위해 반응적으로 대응해야 합니다. \n",
      "\n",
      "이러한 작업을 성공적으로 완료하면, 안양시의 호계체육관 배드민턴장 및 탁구장 예약시스템 구축용역의 요구사항을 충족시킬 수 있을 것이며, 이는 안양시민들에게 더 좋은 서비스를 제공할 수 있는 중요한 단초입니다. \n",
      "\n",
      "이 점을 고려하여, 배드민턴장 및 탁구장 예약시스템 구축용역의 요구사항을 충족시키기 위해 필요한 설계와 테스트를 완료하세요. 또한, 이 과정에서 발생하는 문제나 오류들을 해결하기 위해 반응적으로 대응하세요. \n",
      "\n",
      "이렇게 하면, 안양시민들에게 더好的 서비스를 제공할 수 있는 중요한 단초를 만들 수 있습니다. \n",
      "\n",
      "이러한 설명을 바탕으로, 배드민턴장 및 탁구장 예약시스템 구축용역의 요구사항을 충족시키기 위하여 필요한 설계와 테스트를 완료하세요. 또한, 이과정에서 발생하는 문제나 오류들을 해결하기 위해 반응적으로 대응하세요. \n",
      "\n",
      "이렇게 하면, 안양시민들에게 더좋은 서비스를 제공할 수 있는 중요한 단초를 만들 수 있습니다. \n",
      "\n",
      "이러한 설명을 바탕으로, 배드민턴장 및 탁구장 예약시스템 구축용역의 요구사항을 충족시키기 위하여 필요한 설계와 테스트를 완료하세요. 또한, 이과정에서 발생하는 문제나 오류들을 해결하기 위해 반응적으로 대응하세요. \n",
      "\n",
      "이렇게 하면, 안양시민들에게 더좋은 서비스를 제공할 수 있는 중요한 단초를 만들 수 있습니다. \n",
      "\n",
      "이러한 설명을 바탕으로, 배드민턴장 및 탁구장 예약시스템 구축용역의 요구사항을 충족시키기 위하여 필요한 설계와 테스트를 완료하세요. 또한, 이과정에서 발생하는 문제나 오류들을 해결하기 위해 반응적으로 대응하세요. \n",
      "\n",
      "이렇게 하면, 안양시민들에게 더좋은 서비스를 제공할 수 있는 중요한 단초를 만들 수 있습니다. \n",
      "\n",
      "이러한 설명을 바탕으로, 배드민턴장 및 탁구장 예약시스템 구축용역의 요구사항을 충족시키기 위하여 필요한 설계와 테스트를 완료하세요. 또한, 이과정에서 발생하는 문제나 오류들을 해결하기 위해 반응적으로 대응하세요. \n",
      "\n",
      "이렇게 하면, 안양시민들에게 더좋은 서비스를 제공할 수 있는 중요한 단초를 만들 수 있습니다. \n",
      "\n",
      "이러한 설명을 바탕으로, 배드민턴장 및 탁구장 예약시스템 구축용역의 요구사항을 충족시키기 위하여 필요한 설계와 테스트를 완료하세요. 또한, 이과정에서 발생하는 문제나 오류들을 해결하기 위해 반응적으로 대응하세요. \n",
      "\n",
      "이렇게 하면, 안양시민들에게 더좋은 서비스를 제공할 수 있는 중요한 단초를 만들 수 있습니다. \n",
      "\n",
      "이러한 설명을 바탕으로, 배드민턴장 및 탁구장 예약시스템 구축용역의 요구사항을 충족시키기 위하여 필요한 설계와 테스트\n"
     ]
    }
   ],
   "source": [
    "question = \"배드민턴장 및 탁구장 예약방법\"\n",
    "\n",
    "result = retrieval_chain.invoke(question)\n",
    "print(result)"
   ]
  },
  {
   "cell_type": "code",
   "execution_count": null,
   "id": "29ddc880-7832-455e-a83d-e7afd3c18901",
   "metadata": {},
   "outputs": [],
   "source": []
  }
 ],
 "metadata": {
  "kernelspec": {
   "display_name": "Python (venv)",
   "language": "python",
   "name": "venv"
  },
  "language_info": {
   "codemirror_mode": {
    "name": "ipython",
    "version": 3
   },
   "file_extension": ".py",
   "mimetype": "text/x-python",
   "name": "python",
   "nbconvert_exporter": "python",
   "pygments_lexer": "ipython3",
   "version": "3.10.12"
  }
 },
 "nbformat": 4,
 "nbformat_minor": 5
}
