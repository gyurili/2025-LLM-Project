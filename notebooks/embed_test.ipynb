{
 "cells": [
  {
   "cell_type": "code",
   "execution_count": 1,
   "id": "c20b65ee-4292-4e8e-87e1-b16e80a582cc",
   "metadata": {},
   "outputs": [
    {
     "name": "stdout",
     "output_type": "stream",
     "text": [
      "Project root directory: /home/glen/2025-LLM-Project\n",
      "Config file path: /home/glen/2025-LLM-Project/config.yaml\n",
      "\n",
      "📄 [Verbose] 최종 설정 내용:\n",
      "data:\n",
      "  folder_path: data/files\n",
      "  data_list_path: data/data_list.csv\n",
      "  limit: 100\n",
      "  file_type: all\n",
      "  apply_ocr: false\n",
      "  splitter: recursive\n",
      "  chunk_size: 1000\n",
      "  chunk_overlap: 100\n",
      "embedding:\n",
      "  embed_model: nlpai-lab/KoE5\n",
      "  db_type: chroma\n",
      "  vector_db_path: data\n",
      "retriever:\n",
      "  search_type: similarity\n",
      "  query: 배드민턴장 및 탁구장 예약방법\n",
      "  top_k: 3\n",
      "generator:\n",
      "  model_type: huggingface\n",
      "  model_name: ex\n",
      "  max_length: 512\n",
      "settings:\n",
      "  verbose: true\n",
      "\n",
      "✅ Config 로드 완료\n",
      "✅ 데이터 로드 완료\n"
     ]
    },
    {
     "name": "stderr",
     "output_type": "stream",
     "text": [
      "고려대학교_차세대 포털·학사 정보시스템 구축사업.pdf: 100%|██████████| 297/297 [00:02<00:00, 140.67it/s]\n",
      "서울시립대학교_[사전공개] 학업성취도 다차원 종단분석 통합시스템 1차.pdf: 100%|██████████| 149/149 [00:03<00:00, 39.83it/s]\n",
      "서울특별시_2024년 지도정보 플랫폼 및 전문활용 연계 시스템 고도화 용.pdf:  56%|█████▌    | 42/75 [00:01<00:02, 15.95it/s]"
     ]
    },
    {
     "name": "stdout",
     "output_type": "stream",
     "text": [
      "MuPDF error: syntax error: invalid key in dict\n",
      "\n",
      "MuPDF error: syntax error: invalid key in dict\n",
      "\n"
     ]
    },
    {
     "name": "stderr",
     "output_type": "stream",
     "text": [
      "서울특별시_2024년 지도정보 플랫폼 및 전문활용 연계 시스템 고도화 용.pdf: 100%|██████████| 75/75 [00:04<00:00, 16.37it/s]\n",
      "기초과학연구원_2025년도 중이온가속기용 극저온시스템 운전 용역.pdf: 100%|██████████| 49/49 [00:00<00:00, 299.35it/s]\n"
     ]
    },
    {
     "name": "stdout",
     "output_type": "stream",
     "text": [
      "✅ 데이터 전처리 완료\n",
      "✅ 청크 생성 완료\n",
      "7367\n"
     ]
    }
   ],
   "source": [
    "import os\n",
    "\n",
    "from src.utils.path import get_project_root_dir\n",
    "from src.utils.config import load_config\n",
    "from src.loader.loader_main import loader_main\n",
    "\n",
    "\n",
    "project_root = get_project_root_dir()\n",
    "print(f\"Project root directory: {project_root}\")\n",
    "config_path = os.path.join(project_root, \"config.yaml\")\n",
    "print(f\"Config file path: {config_path}\")\n",
    "\n",
    "config = load_config(config_path)\n",
    "print(\"✅ Config 로드 완료\")\n",
    "\n",
    "chunks = loader_main(config)\n",
    "print(len(chunks))"
   ]
  },
  {
   "cell_type": "code",
   "execution_count": 2,
   "id": "1d31ee0f-73bf-4f4c-a4d6-2a62ae0024ca",
   "metadata": {},
   "outputs": [
    {
     "name": "stdout",
     "output_type": "stream",
     "text": [
      "page_content='2024년 특성화 맞춤형 교육환경 구축 트랙운영 학사정보시스템 고도화 제안요청서 2024. 10. 목 차 . 사업 안내 1 1. 사업개요 1 2. 추진배경 및 필요성 1 3. 기대효과 1 . 구축 방안 2 1. 구축목표 2 2. 구축일정 2 3. 구축범위 3 . 제안 요청 내용 4 1. 제안 요청 개요 4 . 제안안내 사항 5 1. 입찰 및 계약방법 5 2. 제안서 평가방법 6 3. 제안서 작성 8 4. 제안서 평가 12 5. 제출서류 17 6. 제안서 제출일정 및 방법 17 7. 제안요청 질의 및 설명회 17 . 기타사항 19 . 참조자료 22 . 붙임 서식 25 사업 안내1 사업개요 사 업 명 : 한영대학교 특성화 맞춤형 교육환경 구축 - 트랙운영 학사정보시스템 고도화 사업예산 : 130,000,000원 범위 내 (VAT 포함) 사업기간 : 계약일로부터 3개월 (안정화기간 1개월 포함) 기간 및 일정은 학교 사정과 용역대상자와의 협의에 따라 조정될 수 있음 입찰방법 : 제한경쟁입찰(협상에 의한 계약 체결)2 추진배경 및 필요성학사제도 제도개편과 연계하여 전공교과목 선택폭을 넓히고, 트랙제 교육과정 참여자에게 다양한 진로선택의 기회를 제공 및 취업문 확대 트랙제 교육과정의 도입 및 운영으로 산업현장의 경쟁력 강화산업체 수요 맞춤 교육과정 운영 및 활성화로 교육과정 내실화 기업수요 연계 확대로 산업체 및 지역사회 현장실무형 인재 양성 3 기대효과 트랙기반 교육과정의 운영 및 관리 체계를 효과적으로 지원 교수자 학습자 중심의 교육환경 조성을 통한 대학 교육의 가치 구현 학사운영 시스템을 통해 대학 체제 개편에 대한 대응체계 확립 구축 방안1 구축목표 트랙제도 교과과정 개편 및 표준운영관리를 위한 시스템 구현 (교과과정 개발에서 성적 이수까지) 트랙제도 기반 교육과정과 현행 종합정보시스템 연계 가능하도록 고도화 (교육과정 / 수강신청 / 성적 / 학적관리 외) 확장성과 유연성을 고려한 환경 조성 및 유지보수가 용이 하도록 해야 함. 다양한 사용자(교수, 직원,' metadata={'사업명': '한영대학교 특성화 맞춤형 교육환경 구축 - 트랙운영 학사정보시스템 고도화', '발주 기관': '한영대학', '파일명': '한영대학_한영대학교 특성화 맞춤형 교육환경 구축 - 트랙운영 학사정보.hwp', 'chunk_idx': 0}\n"
     ]
    }
   ],
   "source": [
    "for i in range(len(chunks)):\n",
    "    print(chunks[i])\n",
    "    break"
   ]
  },
  {
   "cell_type": "code",
   "execution_count": 3,
   "id": "2d3a84eb-5441-42f0-aeea-c386682190b8",
   "metadata": {},
   "outputs": [
    {
     "name": "stderr",
     "output_type": "stream",
     "text": [
      "/opt/jhub-venv/lib/python3.10/site-packages/tqdm/auto.py:21: TqdmWarning: IProgress not found. Please update jupyter and ipywidgets. See https://ipywidgets.readthedocs.io/en/stable/user_install.html\n",
      "  from .autonotebook import tqdm as notebook_tqdm\n"
     ]
    },
    {
     "name": "stdout",
     "output_type": "stream",
     "text": [
      "✅ Vector DB 로드 완료\n",
      "✅ 벡터 DB 생성 완료\n"
     ]
    }
   ],
   "source": [
    "import importlib\n",
    "from src.embedding.embedding_main import embedding_main\n",
    "\n",
    "vector_store = embedding_main(config, chunks)\n",
    "print(\"✅ 벡터 DB 생성 완료\")"
   ]
  },
  {
   "cell_type": "code",
   "execution_count": 5,
   "id": "e365b6ef-d42c-4ecb-a509-23942cc0f849",
   "metadata": {},
   "outputs": [
    {
     "data": {
      "text/plain": [
       "[Document(id='7645557f-71d4-434b-b37e-1671d77efa34', metadata={'chunk_idx': 12, '발주 기관': '경기도 안양시', '사업명': '호계체육관 배드민턴장 및 탁구장 예약시스템 구축 용역', '파일명': '경기도 안양시_호계체육관 배드민턴장 및 탁구장 예약시스템 구축 용역.hwp'}, page_content='안내창구 결제 IC인증결제가 가능해야 한다. 모바일 간편 결제에 대한 시스템 도입을 제안해야 한다.요구사항 번호SFR-006요구사항 분류시스템 기능 요구사항요구사항 명칭키오스크 시스템 기능 요구사항요구사항상세설명정의예약 시스템의 키오스크 시스템 기능 요구사항세부내용 사용자용 무인 예약 프로그램 기능 내역 - 당일 사용 및 예약 관리 회원 및 비회원 입장객 입장에 대한 매출등록 및 결제 외부 오프라인 PG 모듈을 이용하여 예약 및 결제관리 각 디바이스를 제어하기 위한 인터페이스 발권기 제어를 위한 환경 셋팅 및 출력물 변경 기능제공 무인발권기 s/w 각 제어부 장비 방출기 등의 제어 통신과 관련한 통신 정보 log를 기록하는 기능을 제공 무인발권 매표상품 및 회원이용/매출 정보는 홈페이지 시스템과 완벽하게 연동 구현 중앙서버 data 정보관리 방식지원이 가능 상세기능은 발주처와 협의후 진행요구사항 번호SFR-007요구사항 분류시스템 기능 요구사항요구사항 명칭예약 시스템 기능 요구사항요구사항상세설명정의예약 시스템 상세 기능 요구사항세부내용 배드민턴장 및 탁구장 예약 시스템을 구분하여 구축 예약기간을 관리자가 설정하면, 해당 기간이 도래했을 때 자동으로예약이 가능하도록 구축 홈페이지에서는 당일예약이 되면 안되며, 현장 키오스크에서는 당일 예약이 가능해야함 예약시 나오는 시간대는 관리자가 직접 설정이 가능해야 함 관리자가 원활하게 휴무일을 지정할 수 있어야 하며, 해당 휴무일은 예약이 안되도록 구축 즉시감면 대상자의 경우 감면대상자가 참여인력의 50 가 넘을 경우 감면적용 계정별로 1일 1회로 예약을 제한 예약 및 사용 신청 시 이용 코트(면) 당 입장인원 선택 이용요금을 관리자가 설정 할 수 있어야 하며, 관리자가 설정한 금액은 홈페이지와 키오스크에 동일하게 적용되어야 함 사용일 기준 위약금 정책에 따라 결제취소 및 환불이 가능해야 하며, 당일 취소는 불가함 시설별로 키오스크뿐 아니라 대형 화면을 통해 현재 이용 중인 시설의 사용 코트(면)을 안내 하는 화면을'),\n",
       " Document(id='559ec845-111c-4537-a1d5-944dc37288ce', metadata={'chunk_idx': 1, '발주 기관': '경기도 안양시', '사업명': '호계체육관 배드민턴장 및 탁구장 예약시스템 구축 용역', '파일명': '경기도 안양시_호계체육관 배드민턴장 및 탁구장 예약시스템 구축 용역.hwp'}, page_content='회원서비스 제공 5) 행정안전부 자동감면 서비스 제공 6) 운영 중인 안양도시공사 홈페이지를 활용하여 기능 개발 (프로그램 이식성 및 호환성 제공) 호계체육관 배드민턴장 및 탁구장 예약 시스템 구축(키오스크 서비스) 1) 현장에서 키오스크를 이용하여 인포데스크 방문 없이 예약 및 결제가 가능하도록 관리하는 관리자 페이지 통합 구현 2) 안양도시공사 홈페이지 뿐 아니라 키오스크에서 예약 및 결제가 가능하도록 통합 관리 체계가 구축되어야 하며, 키오스크는 별도의 전용 예약 페이지를 제공 3) 현장에서 제공되는 별도의 모니터를 통해 현재 이용 중인 구역에 대하여 이용자 정보를 제공 4) 현장에서 키오스크를 통해 당일 예약 및 결제 기능을 제공하여 시설이용이 가능 하도록 구현 5) 제공되는 키오스크는 배드민턴과 탁구가 별도로 운영이 가능 하도록 기능 개발4. 기대효과 가. 웹 기반의 예약시스템 구축으로 자동화 및 무인화, 다양한 접근성 제공 등 이용의 편의성 제공과 시설 이용 만족도 향상 나. 데스크 업무 분산을 통한 서비스 품질 강화 및 업무의 효율성 확보 다. 자동화 전산시스템을 통한 비대면 언택트 운영 실현 1. 추진목표 사업추진 방안 호계체육관 배드민턴장 및 탁구장 예약 시스템 구축으로 사용자 편리성 증대, 업무 효율성 증가 및 신뢰성 있는 서비스 및 데이터 통계 자료를 제공2. 추진체계사업총괄기관안양시실무지원사업주관실무지원도시공사(운영관리 부서)(현장 운영지원)안양시 체육과, 도시공사도시공사(정보화 부서)(ICT 기술지원)설치,구축 수행계약상대자구분주요역할 및 기능구성사업주관 사업총괄 추진 시스템 관련 요구사항 정의 및 조정 사업수행 관리, 검수 및 결과평가실무지원 요구사항 정의 및 검토 지원 업무관련 자료 제공 관련 구축내용 검수 및 평가 관련 업무 운영 운영관리 부서 정보화 부서설치,구축수행 기획/분석 시스템 구축/개발 테스트 수행 및 하자보수 교육 및 기술 지원 등 기타 과제수행에 필요한 사항 계약상대자 3. 추진일정 계약일로부터 120일간추진내용M'),\n",
       " Document(id='b5fbc032-d82c-4f13-af99-c6fbcf904485', metadata={'chunk_idx': 2, '발주 기관': '경기도 안양시', '사업명': '호계체육관 배드민턴장 및 탁구장 예약시스템 구축 용역', '파일명': '경기도 안양시_호계체육관 배드민턴장 및 탁구장 예약시스템 구축 용역.hwp'}, page_content='기획/분석 시스템 구축/개발 테스트 수행 및 하자보수 교육 및 기술 지원 등 기타 과제수행에 필요한 사항 계약상대자 3. 추진일정 계약일로부터 120일간추진내용M 0M 1M 2M 3착수 프로젝트 착수분석 요구사항 및 환경 분석 시스템 분석 업무 분석설계 및 개발 개발 설계 데이터베이스 설계 예약시스템 구축 키오스크 시스템 구축 단위 및 통합 테스트주요일정 착수보고 완료보고 사용자 교육오픈 서비스오픈 세부일정 또는 특이사항은 협의를 통해 일정 변경(조정) 가능4. 추진방안 가. 입찰 및 낙찰방식 1) 사업자 선정방식 : 제한경쟁 입찰 후 협상에 의한 계약 지방자치단체를 당사자로 하는 계약에 관한 법률 시행령 제43조 지방자치단체 입찰시 낙찰자 결정기준 (행정안전부 예규) 협상에 의한 계약체결기준 2) 기술평가(90 )와 가격평가(10 )를 실시하여 종합평가점수(100점)로 평가 나. 협상 1) 협상은 제안서 기술평가(90 )와 가격평가(10 )를 종합평가한 결과 고득점자순으로 합니다. 다만, 제안서 평가결과 기술능력평가 점수가 기술능력평가분야 배점한도 의 85 이상인 자를 협상적격자로 선정 과업수행 지침1. 기본사항 본 제안요청서는 안양시 호계체육관 배드민턴장 및 탁구장 예약 시스템 구축 을 수행 하는 것에 그 목적이 있으며, 설치 구축업체(이하 사업자 )는 안양시(이하 발주자 ) 사업을 신의 성실의 원칙에 따라 수행하여야 한다. 본 제안요청서는 사업자가 임의로 해석할 수 없으며, 내용이 불분명하거나 기재되지 않은 사항은 상호협의하여 결정한다. 본 과업수행에 필요한 모든 요건은 제안요청서에 따르며, 과업내용을 정확히 숙지하지 못하여 발생되는 모든 문제 및 손해는 사업자가 전적으로 책임진다. 사업자는 소속된 정직원들이 본 과업을 수행하게 하여야 하며, 제3자에게 과업수행과 관련된 사항(의무, 책임 및 권한) 양도 이관 매도할 수 없다. 사업자는 과업 진행상황 및 점검내용을 발주자에게 정기 수시보고를 실시하고 발주자 감독관의 확인을 받아야 한다. (과업내용 확정'),\n",
       " Document(id='7c71307d-fa0b-4385-9f5f-06ce3ef4b8f7', metadata={'chunk_idx': 0, '발주 기관': '경기도 안양시', '사업명': '호계체육관 배드민턴장 및 탁구장 예약시스템 구축 용역', '파일명': '경기도 안양시_호계체육관 배드민턴장 및 탁구장 예약시스템 구축 용역.hwp'}, page_content='제 안 요 청 서사 업 명호계체육관 배드민턴장 및 탁구장 예약 시스템 구축주관부서체육과사업담당자시설7급 박종일2024. 6. 목 차 . 사업의 개요 1 . 사업추진 방안 3 . 과업수행 지침 5 . 제안요청 내용 10 . 제안서 안내사항 26 . 제안서 작성요령 35 . 구비서류(제출서식)목록 39 . 정보화 사업 보안 준수사항 및 보안특약 66 사업의 개요 1. 사업일반 사업명 : 호계체육관 배드민턴장 및 탁구장 예약 시스템 구축 사업예산 : 49,500천원(부가가치세 포함) 사업기간 : 계약 후 120일 계약방법 : 제한경쟁입찰(협상에 의한 계약) 2. 추진배경 및 필요성 고객의 니즈(요구사항)를 시스템에 즉시 반영하기 위한 웹 기반의 홈페이지 및 키오스크 예약관리시스템 구축 필요 이용회원의 편리성 및 운영 효율성을 위한 자동화시스템 구축 필요 키오스크에서 예약 및 사용신청이 가능하도록 구축하여 안내데스크로 집중되는 고객 업무 분산으로 신속 응대 개선 필요 자동화 서비스 도입으로 센터 이용객과 대면 비대면 다양성 확보 필요 무단이용자 이용을 차단하고 안전하게 시설한 시설관리 대책 마련 필요 매년 강화되는 개인정보보호법에 맞춰 시큐어 코딩을 적용한 회원관리 프로그램 개발을 통해 시민 개인정보를 안전하게 수집 이용하고자 함 3. 주요 사업범위 호계체육관 배드민턴장 및 탁구장 예약 시스템 구축(웹 서비스) 1) 반응형 웹을 기반으로 예약시스템을 구축하고, 키오스크와 연계하여 시설 내부에서 관리 및 운영이 가능하도록 구축 2) 예약 시스템 운영을 위한 회원관리, 비회원관리, 매출관리, 키오스크 관리, 분석통계관리 등 운영관리 업무 및 입장시간 등에 대한 자동화 시스템 환경설정 기능 3) 고객이 언제 어디서나 편리하게 시설 예약이 가능한 시스템 구축 4) 반응형 웹기반의 홈페이지로 웹과 모바일에서 회원서비스 제공 5) 행정안전부 자동감면 서비스 제공 6) 운영 중인 안양도시공사 홈페이지를 활용하여 기능 개발 (프로그램 이식성 및 호환성 제공) 호계체육관 배드민턴장')]"
      ]
     },
     "execution_count": 5,
     "metadata": {},
     "output_type": "execute_result"
    }
   ],
   "source": [
    "vector_store.similarity_search(\"베드민턴장 예약방법\")"
   ]
  },
  {
   "cell_type": "code",
   "execution_count": 1,
   "id": "8d266d7b-957b-4567-ad1a-9b23ada78391",
   "metadata": {},
   "outputs": [
    {
     "name": "stdout",
     "output_type": "stream",
     "text": [
      "Project root directory: /home/glen/2025-LLM-Project\n",
      "Config file path: /home/glen/2025-LLM-Project/config.yaml\n",
      "\n",
      "📄 [Verbose] 최종 설정 내용:\n",
      "data:\n",
      "  folder_path: data/files\n",
      "  data_list_path: data/data_list.csv\n",
      "  limit: 100\n",
      "  file_type: all\n",
      "  apply_ocr: false\n",
      "  splitter: recursive\n",
      "  chunk_size: 1000\n",
      "  chunk_overlap: 100\n",
      "embedding:\n",
      "  embed_model: nlpai-lab/KoE5\n",
      "  db_type: chroma\n",
      "  vector_db_path: data\n",
      "retriever:\n",
      "  search_type: similarity\n",
      "  query: 배드민턴장 및 탁구장 예약방법\n",
      "  top_k: 3\n",
      "generator:\n",
      "  model_type: huggingface\n",
      "  model_name: ex\n",
      "  max_length: 512\n",
      "settings:\n",
      "  verbose: true\n",
      "\n"
     ]
    }
   ],
   "source": [
    "import os\n",
    "\n",
    "from src.utils.path import get_project_root_dir\n",
    "from src.utils.config import load_config\n",
    "from src.loader.loader_main import loader_main\n",
    "\n",
    "project_root = get_project_root_dir()\n",
    "print(f\"Project root directory: {project_root}\")\n",
    "config_path = os.path.join(project_root, \"config.yaml\")\n",
    "print(f\"Config file path: {config_path}\")\n",
    "\n",
    "config = load_config(config_path)"
   ]
  },
  {
   "cell_type": "code",
   "execution_count": 3,
   "id": "cd5ccbb3-60be-4507-a405-3df47976f1f1",
   "metadata": {},
   "outputs": [
    {
     "name": "stdout",
     "output_type": "stream",
     "text": [
      "nlpai-lab/KoE5\n"
     ]
    }
   ],
   "source": [
    "embed_config = config.get(\"embedding\", {})\n",
    "embed_model = embed_config.get(\"embed_model\", \"openai\")\n",
    "print(embed_model)"
   ]
  },
  {
   "cell_type": "code",
   "execution_count": 4,
   "id": "45591c93-579b-4890-a5b9-083e54cb0158",
   "metadata": {},
   "outputs": [
    {
     "name": "stderr",
     "output_type": "stream",
     "text": [
      "/opt/jhub-venv/lib/python3.10/site-packages/tqdm/auto.py:21: TqdmWarning: IProgress not found. Please update jupyter and ipywidgets. See https://ipywidgets.readthedocs.io/en/stable/user_install.html\n",
      "  from .autonotebook import tqdm as notebook_tqdm\n"
     ]
    },
    {
     "name": "stdout",
     "output_type": "stream",
     "text": [
      "HuggingFaceEmbeddings\n"
     ]
    }
   ],
   "source": [
    "from src.embedding.vector_db import generate_embedding\n",
    "\n",
    "embeddings = generate_embedding(embed_model)\n",
    "print(embeddings.__class__.__name__)"
   ]
  },
  {
   "cell_type": "code",
   "execution_count": 5,
   "id": "cd5bd3a9-6399-4da6-8c10-cac384f80720",
   "metadata": {},
   "outputs": [
    {
     "name": "stdout",
     "output_type": "stream",
     "text": [
      "/home/glen/2025-LLM-Project/data\n"
     ]
    }
   ],
   "source": [
    "from src.utils.path import get_project_root_dir\n",
    "output_path = os.path.join(get_project_root_dir(), \"data\")\n",
    "print(output_path)"
   ]
  },
  {
   "cell_type": "code",
   "execution_count": 6,
   "id": "90bf83e7-c9ee-4580-a59c-e45201eb1a4d",
   "metadata": {},
   "outputs": [
    {
     "name": "stdout",
     "output_type": "stream",
     "text": [
      "all_100_recursive_KoE5_chroma\n",
      "/home/glen/2025-LLM-Project/data/all_100_recursive_KoE5_chroma\n"
     ]
    }
   ],
   "source": [
    "from src.embedding.embedding_main import generate_index_name\n",
    "index_name = generate_index_name(config)\n",
    "print(index_name)\n",
    "chroma_path = os.path.join(output_path, index_name)\n",
    "print(chroma_path)"
   ]
  },
  {
   "cell_type": "code",
   "execution_count": 7,
   "id": "5f66915e-0b72-4169-a814-89d1ab258cac",
   "metadata": {},
   "outputs": [
    {
     "name": "stdout",
     "output_type": "stream",
     "text": [
      "✅ 데이터 로드 완료\n"
     ]
    },
    {
     "name": "stderr",
     "output_type": "stream",
     "text": [
      "고려대학교_차세대 포털·학사 정보시스템 구축사업.pdf: 100%|██████████| 297/297 [00:02<00:00, 142.41it/s]\n",
      "서울시립대학교_[사전공개] 학업성취도 다차원 종단분석 통합시스템 1차.pdf: 100%|██████████| 149/149 [00:03<00:00, 40.06it/s]\n",
      "서울특별시_2024년 지도정보 플랫폼 및 전문활용 연계 시스템 고도화 용.pdf:  59%|█████▊    | 44/75 [00:02<00:01, 15.82it/s]"
     ]
    },
    {
     "name": "stdout",
     "output_type": "stream",
     "text": [
      "MuPDF error: syntax error: invalid key in dict\n",
      "\n",
      "MuPDF error: syntax error: invalid key in dict\n",
      "\n"
     ]
    },
    {
     "name": "stderr",
     "output_type": "stream",
     "text": [
      "서울특별시_2024년 지도정보 플랫폼 및 전문활용 연계 시스템 고도화 용.pdf: 100%|██████████| 75/75 [00:04<00:00, 16.45it/s]\n",
      "기초과학연구원_2025년도 중이온가속기용 극저온시스템 운전 용역.pdf: 100%|██████████| 49/49 [00:00<00:00, 291.06it/s]\n"
     ]
    },
    {
     "name": "stdout",
     "output_type": "stream",
     "text": [
      "✅ 데이터 전처리 완료\n",
      "✅ 청크 생성 완료\n",
      "7367\n"
     ]
    }
   ],
   "source": [
    "chunks = loader_main(config)\n",
    "print(len(chunks))"
   ]
  },
  {
   "cell_type": "code",
   "execution_count": 8,
   "id": "32629a2f-3e8a-49b0-bf32-e71992ed3cd8",
   "metadata": {},
   "outputs": [],
   "source": [
    "from langchain_chroma import Chroma\n",
    "\n",
    "vector_store = Chroma(\n",
    "    embedding_function=embeddings,\n",
    "    persist_directory=chroma_path,\n",
    "    collection_name=\"chroma_db\"\n",
    ")"
   ]
  },
  {
   "cell_type": "code",
   "execution_count": 9,
   "id": "3de13807-b599-4e87-8c31-8f3ee687ff06",
   "metadata": {},
   "outputs": [
    {
     "name": "stderr",
     "output_type": "stream",
     "text": [
      "📌 Indexing chunks to Chroma: 100%|██████████| 58/58 [05:48<00:00,  6.01s/batch, Indexed 7367 / 7367]\n"
     ]
    }
   ],
   "source": [
    "from src.embedding.vector_db import add_docs_in_batch\n",
    "\n",
    "vector_store = add_docs_in_batch(vector_store, chunks)"
   ]
  },
  {
   "cell_type": "code",
   "execution_count": 10,
   "id": "c0de8170-e687-47d3-81a7-6e4263091aed",
   "metadata": {},
   "outputs": [
    {
     "data": {
      "text/plain": [
       "[Document(id='7645557f-71d4-434b-b37e-1671d77efa34', metadata={'chunk_idx': 12, '발주 기관': '경기도 안양시', '사업명': '호계체육관 배드민턴장 및 탁구장 예약시스템 구축 용역', '파일명': '경기도 안양시_호계체육관 배드민턴장 및 탁구장 예약시스템 구축 용역.hwp'}, page_content='안내창구 결제 IC인증결제가 가능해야 한다. 모바일 간편 결제에 대한 시스템 도입을 제안해야 한다.요구사항 번호SFR-006요구사항 분류시스템 기능 요구사항요구사항 명칭키오스크 시스템 기능 요구사항요구사항상세설명정의예약 시스템의 키오스크 시스템 기능 요구사항세부내용 사용자용 무인 예약 프로그램 기능 내역 - 당일 사용 및 예약 관리 회원 및 비회원 입장객 입장에 대한 매출등록 및 결제 외부 오프라인 PG 모듈을 이용하여 예약 및 결제관리 각 디바이스를 제어하기 위한 인터페이스 발권기 제어를 위한 환경 셋팅 및 출력물 변경 기능제공 무인발권기 s/w 각 제어부 장비 방출기 등의 제어 통신과 관련한 통신 정보 log를 기록하는 기능을 제공 무인발권 매표상품 및 회원이용/매출 정보는 홈페이지 시스템과 완벽하게 연동 구현 중앙서버 data 정보관리 방식지원이 가능 상세기능은 발주처와 협의후 진행요구사항 번호SFR-007요구사항 분류시스템 기능 요구사항요구사항 명칭예약 시스템 기능 요구사항요구사항상세설명정의예약 시스템 상세 기능 요구사항세부내용 배드민턴장 및 탁구장 예약 시스템을 구분하여 구축 예약기간을 관리자가 설정하면, 해당 기간이 도래했을 때 자동으로예약이 가능하도록 구축 홈페이지에서는 당일예약이 되면 안되며, 현장 키오스크에서는 당일 예약이 가능해야함 예약시 나오는 시간대는 관리자가 직접 설정이 가능해야 함 관리자가 원활하게 휴무일을 지정할 수 있어야 하며, 해당 휴무일은 예약이 안되도록 구축 즉시감면 대상자의 경우 감면대상자가 참여인력의 50 가 넘을 경우 감면적용 계정별로 1일 1회로 예약을 제한 예약 및 사용 신청 시 이용 코트(면) 당 입장인원 선택 이용요금을 관리자가 설정 할 수 있어야 하며, 관리자가 설정한 금액은 홈페이지와 키오스크에 동일하게 적용되어야 함 사용일 기준 위약금 정책에 따라 결제취소 및 환불이 가능해야 하며, 당일 취소는 불가함 시설별로 키오스크뿐 아니라 대형 화면을 통해 현재 이용 중인 시설의 사용 코트(면)을 안내 하는 화면을'),\n",
       " Document(id='559ec845-111c-4537-a1d5-944dc37288ce', metadata={'chunk_idx': 1, '발주 기관': '경기도 안양시', '사업명': '호계체육관 배드민턴장 및 탁구장 예약시스템 구축 용역', '파일명': '경기도 안양시_호계체육관 배드민턴장 및 탁구장 예약시스템 구축 용역.hwp'}, page_content='회원서비스 제공 5) 행정안전부 자동감면 서비스 제공 6) 운영 중인 안양도시공사 홈페이지를 활용하여 기능 개발 (프로그램 이식성 및 호환성 제공) 호계체육관 배드민턴장 및 탁구장 예약 시스템 구축(키오스크 서비스) 1) 현장에서 키오스크를 이용하여 인포데스크 방문 없이 예약 및 결제가 가능하도록 관리하는 관리자 페이지 통합 구현 2) 안양도시공사 홈페이지 뿐 아니라 키오스크에서 예약 및 결제가 가능하도록 통합 관리 체계가 구축되어야 하며, 키오스크는 별도의 전용 예약 페이지를 제공 3) 현장에서 제공되는 별도의 모니터를 통해 현재 이용 중인 구역에 대하여 이용자 정보를 제공 4) 현장에서 키오스크를 통해 당일 예약 및 결제 기능을 제공하여 시설이용이 가능 하도록 구현 5) 제공되는 키오스크는 배드민턴과 탁구가 별도로 운영이 가능 하도록 기능 개발4. 기대효과 가. 웹 기반의 예약시스템 구축으로 자동화 및 무인화, 다양한 접근성 제공 등 이용의 편의성 제공과 시설 이용 만족도 향상 나. 데스크 업무 분산을 통한 서비스 품질 강화 및 업무의 효율성 확보 다. 자동화 전산시스템을 통한 비대면 언택트 운영 실현 1. 추진목표 사업추진 방안 호계체육관 배드민턴장 및 탁구장 예약 시스템 구축으로 사용자 편리성 증대, 업무 효율성 증가 및 신뢰성 있는 서비스 및 데이터 통계 자료를 제공2. 추진체계사업총괄기관안양시실무지원사업주관실무지원도시공사(운영관리 부서)(현장 운영지원)안양시 체육과, 도시공사도시공사(정보화 부서)(ICT 기술지원)설치,구축 수행계약상대자구분주요역할 및 기능구성사업주관 사업총괄 추진 시스템 관련 요구사항 정의 및 조정 사업수행 관리, 검수 및 결과평가실무지원 요구사항 정의 및 검토 지원 업무관련 자료 제공 관련 구축내용 검수 및 평가 관련 업무 운영 운영관리 부서 정보화 부서설치,구축수행 기획/분석 시스템 구축/개발 테스트 수행 및 하자보수 교육 및 기술 지원 등 기타 과제수행에 필요한 사항 계약상대자 3. 추진일정 계약일로부터 120일간추진내용M'),\n",
       " Document(id='b5fbc032-d82c-4f13-af99-c6fbcf904485', metadata={'chunk_idx': 2, '발주 기관': '경기도 안양시', '사업명': '호계체육관 배드민턴장 및 탁구장 예약시스템 구축 용역', '파일명': '경기도 안양시_호계체육관 배드민턴장 및 탁구장 예약시스템 구축 용역.hwp'}, page_content='기획/분석 시스템 구축/개발 테스트 수행 및 하자보수 교육 및 기술 지원 등 기타 과제수행에 필요한 사항 계약상대자 3. 추진일정 계약일로부터 120일간추진내용M 0M 1M 2M 3착수 프로젝트 착수분석 요구사항 및 환경 분석 시스템 분석 업무 분석설계 및 개발 개발 설계 데이터베이스 설계 예약시스템 구축 키오스크 시스템 구축 단위 및 통합 테스트주요일정 착수보고 완료보고 사용자 교육오픈 서비스오픈 세부일정 또는 특이사항은 협의를 통해 일정 변경(조정) 가능4. 추진방안 가. 입찰 및 낙찰방식 1) 사업자 선정방식 : 제한경쟁 입찰 후 협상에 의한 계약 지방자치단체를 당사자로 하는 계약에 관한 법률 시행령 제43조 지방자치단체 입찰시 낙찰자 결정기준 (행정안전부 예규) 협상에 의한 계약체결기준 2) 기술평가(90 )와 가격평가(10 )를 실시하여 종합평가점수(100점)로 평가 나. 협상 1) 협상은 제안서 기술평가(90 )와 가격평가(10 )를 종합평가한 결과 고득점자순으로 합니다. 다만, 제안서 평가결과 기술능력평가 점수가 기술능력평가분야 배점한도 의 85 이상인 자를 협상적격자로 선정 과업수행 지침1. 기본사항 본 제안요청서는 안양시 호계체육관 배드민턴장 및 탁구장 예약 시스템 구축 을 수행 하는 것에 그 목적이 있으며, 설치 구축업체(이하 사업자 )는 안양시(이하 발주자 ) 사업을 신의 성실의 원칙에 따라 수행하여야 한다. 본 제안요청서는 사업자가 임의로 해석할 수 없으며, 내용이 불분명하거나 기재되지 않은 사항은 상호협의하여 결정한다. 본 과업수행에 필요한 모든 요건은 제안요청서에 따르며, 과업내용을 정확히 숙지하지 못하여 발생되는 모든 문제 및 손해는 사업자가 전적으로 책임진다. 사업자는 소속된 정직원들이 본 과업을 수행하게 하여야 하며, 제3자에게 과업수행과 관련된 사항(의무, 책임 및 권한) 양도 이관 매도할 수 없다. 사업자는 과업 진행상황 및 점검내용을 발주자에게 정기 수시보고를 실시하고 발주자 감독관의 확인을 받아야 한다. (과업내용 확정'),\n",
       " Document(id='7c71307d-fa0b-4385-9f5f-06ce3ef4b8f7', metadata={'chunk_idx': 0, '발주 기관': '경기도 안양시', '사업명': '호계체육관 배드민턴장 및 탁구장 예약시스템 구축 용역', '파일명': '경기도 안양시_호계체육관 배드민턴장 및 탁구장 예약시스템 구축 용역.hwp'}, page_content='제 안 요 청 서사 업 명호계체육관 배드민턴장 및 탁구장 예약 시스템 구축주관부서체육과사업담당자시설7급 박종일2024. 6. 목 차 . 사업의 개요 1 . 사업추진 방안 3 . 과업수행 지침 5 . 제안요청 내용 10 . 제안서 안내사항 26 . 제안서 작성요령 35 . 구비서류(제출서식)목록 39 . 정보화 사업 보안 준수사항 및 보안특약 66 사업의 개요 1. 사업일반 사업명 : 호계체육관 배드민턴장 및 탁구장 예약 시스템 구축 사업예산 : 49,500천원(부가가치세 포함) 사업기간 : 계약 후 120일 계약방법 : 제한경쟁입찰(협상에 의한 계약) 2. 추진배경 및 필요성 고객의 니즈(요구사항)를 시스템에 즉시 반영하기 위한 웹 기반의 홈페이지 및 키오스크 예약관리시스템 구축 필요 이용회원의 편리성 및 운영 효율성을 위한 자동화시스템 구축 필요 키오스크에서 예약 및 사용신청이 가능하도록 구축하여 안내데스크로 집중되는 고객 업무 분산으로 신속 응대 개선 필요 자동화 서비스 도입으로 센터 이용객과 대면 비대면 다양성 확보 필요 무단이용자 이용을 차단하고 안전하게 시설한 시설관리 대책 마련 필요 매년 강화되는 개인정보보호법에 맞춰 시큐어 코딩을 적용한 회원관리 프로그램 개발을 통해 시민 개인정보를 안전하게 수집 이용하고자 함 3. 주요 사업범위 호계체육관 배드민턴장 및 탁구장 예약 시스템 구축(웹 서비스) 1) 반응형 웹을 기반으로 예약시스템을 구축하고, 키오스크와 연계하여 시설 내부에서 관리 및 운영이 가능하도록 구축 2) 예약 시스템 운영을 위한 회원관리, 비회원관리, 매출관리, 키오스크 관리, 분석통계관리 등 운영관리 업무 및 입장시간 등에 대한 자동화 시스템 환경설정 기능 3) 고객이 언제 어디서나 편리하게 시설 예약이 가능한 시스템 구축 4) 반응형 웹기반의 홈페이지로 웹과 모바일에서 회원서비스 제공 5) 행정안전부 자동감면 서비스 제공 6) 운영 중인 안양도시공사 홈페이지를 활용하여 기능 개발 (프로그램 이식성 및 호환성 제공) 호계체육관 배드민턴장')]"
      ]
     },
     "execution_count": 10,
     "metadata": {},
     "output_type": "execute_result"
    }
   ],
   "source": [
    "vector_store.similarity_search(\"베드민턴장 예약방법\")"
   ]
  },
  {
   "cell_type": "code",
   "execution_count": 11,
   "id": "534ddde6-b5b7-453e-b275-475a730e667b",
   "metadata": {},
   "outputs": [
    {
     "name": "stdout",
     "output_type": "stream",
     "text": [
      "✅ Vector DB 로드 완료\n",
      "✅ 벡터 DB 생성 완료\n"
     ]
    }
   ],
   "source": [
    "import importlib\n",
    "from src.embedding.embedding_main import embedding_main\n",
    "\n",
    "vector_store = embedding_main(config, chunks)\n",
    "print(\"✅ 벡터 DB 생성 완료\")"
   ]
  },
  {
   "cell_type": "code",
   "execution_count": 1,
   "id": "e548247e-8f19-4a69-9a46-63ea2283ddc7",
   "metadata": {},
   "outputs": [
    {
     "data": {
      "text/plain": [
       "True"
      ]
     },
     "execution_count": 1,
     "metadata": {},
     "output_type": "execute_result"
    }
   ],
   "source": [
    "import os\n",
    "os.chdir(\"..\")\n",
    "from dotenv import load_dotenv\n",
    "load_dotenv()"
   ]
  },
  {
   "cell_type": "code",
   "execution_count": 2,
   "id": "f0fb76c6-e0de-4a4e-85db-d01cb1999686",
   "metadata": {},
   "outputs": [],
   "source": [
    "import os\n",
    "\n",
    "os.environ[\"LANGCHAIN_TRACING_V2\"] = \"true\"\n",
    "os.environ[\"LANGCHAIN_PROJECT\"] = \"Codeit Project2\""
   ]
  },
  {
   "cell_type": "code",
   "execution_count": 7,
   "id": "d6630545-494c-4cc4-aa07-8f7e91bcdcf0",
   "metadata": {},
   "outputs": [
    {
     "name": "stdout",
     "output_type": "stream",
     "text": [
      "LangSmith 추적을 시작합니다.\n",
      "[프로젝트명]\n",
      "Vectorstore_pinecone\n"
     ]
    }
   ],
   "source": [
    "from langchain_teddynote import logging\n",
    "logging.langsmith(\"Vectorstore_pinecone\")"
   ]
  },
  {
   "cell_type": "code",
   "execution_count": 6,
   "id": "0b38fc6e-5456-414b-b604-95e4c3eccce5",
   "metadata": {},
   "outputs": [
    {
     "name": "stdout",
     "output_type": "stream",
     "text": [
      "LangSmith 추적을 하지 않습니다.\n"
     ]
    }
   ],
   "source": [
    "from langchain_teddynote import logging\n",
    "\n",
    "# set_enable=False 로 지정하면 추적을 하지 않습니다.\n",
    "logging.langsmith(\"랭체인 튜토리얼 프로젝트\", set_enable=False)"
   ]
  },
  {
   "cell_type": "code",
   "execution_count": 2,
   "id": "6cb3da1f-2f6f-4152-860a-5619935c2f08",
   "metadata": {},
   "outputs": [
    {
     "ename": "Exception",
     "evalue": "The official Pinecone python package has been renamed from `pinecone-client` to `pinecone`. Please remove `pinecone-client` from your project dependencies and add `pinecone` instead. See the README at https://github.com/pinecone-io/pinecone-python-client for more information on using the python SDK.",
     "output_type": "error",
     "traceback": [
      "\u001b[0;31m---------------------------------------------------------------------------\u001b[0m",
      "\u001b[0;31mException\u001b[0m                                 Traceback (most recent call last)",
      "Cell \u001b[0;32mIn[2], line 1\u001b[0m\n\u001b[0;32m----> 1\u001b[0m \u001b[38;5;28;01mimport\u001b[39;00m\u001b[38;5;250m \u001b[39m\u001b[38;5;21;01mpinecone\u001b[39;00m\n",
      "File \u001b[0;32m/opt/jhub-venv/lib/python3.10/site-packages/pinecone/__init__.py:5\u001b[0m\n\u001b[1;32m      1\u001b[0m \u001b[38;5;124;03m\"\"\"\u001b[39;00m\n\u001b[1;32m      2\u001b[0m \u001b[38;5;124;03m.. include:: ../README.md\u001b[39;00m\n\u001b[1;32m      3\u001b[0m \u001b[38;5;124;03m\"\"\"\u001b[39;00m\n\u001b[0;32m----> 5\u001b[0m \u001b[38;5;28;01mraise\u001b[39;00m \u001b[38;5;167;01mException\u001b[39;00m(\n\u001b[1;32m      6\u001b[0m     \u001b[38;5;124m\"\u001b[39m\u001b[38;5;124mThe official Pinecone python package has been renamed from `pinecone-client` to `pinecone`. Please remove `pinecone-client` from your project dependencies and add `pinecone` instead. See the README at https://github.com/pinecone-io/pinecone-python-client for more information on using the python SDK.\u001b[39m\u001b[38;5;124m\"\u001b[39m\n\u001b[1;32m      7\u001b[0m )\n",
      "\u001b[0;31mException\u001b[0m: The official Pinecone python package has been renamed from `pinecone-client` to `pinecone`. Please remove `pinecone-client` from your project dependencies and add `pinecone` instead. See the README at https://github.com/pinecone-io/pinecone-python-client for more information on using the python SDK."
     ]
    }
   ],
   "source": [
    "import pinecone"
   ]
  },
  {
   "cell_type": "code",
   "execution_count": null,
   "id": "09f4fbc7-13ee-4f3c-8ec5-a3583402830d",
   "metadata": {},
   "outputs": [],
   "source": []
  }
 ],
 "metadata": {
  "kernelspec": {
   "display_name": "Python (venv)",
   "language": "python",
   "name": "venv"
  },
  "language_info": {
   "codemirror_mode": {
    "name": "ipython",
    "version": 3
   },
   "file_extension": ".py",
   "mimetype": "text/x-python",
   "name": "python",
   "nbconvert_exporter": "python",
   "pygments_lexer": "ipython3",
   "version": "3.10.12"
  }
 },
 "nbformat": 4,
 "nbformat_minor": 5
}
